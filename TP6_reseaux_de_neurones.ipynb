{
 "cells": [
  {
   "cell_type": "markdown",
   "metadata": {
    "id": "e_8KkPJjoN5I"
   },
   "source": [
    "# TP 6 - Réseaux de neurones."
   ]
  },
  {
   "cell_type": "markdown",
   "metadata": {
    "id": "JzzL-TeMoUHU"
   },
   "source": [
    "Dans ce TP, nous allons construire un classifieur à base de réseaux de  neurones pour la base de données MNIST.\n",
    "Certaines étapes sont similaires au TP 4 (KNN), vous pouvez reprendre certains bouts de code de votre TP.\n",
    "\n",
    "Nous allons également étudier l'influence du nombre d'époques et du nombre de couches sur la classification. Egalement, nous évaluerons notre algorithme de classification à l'aide d'une matrice de confusion."
   ]
  },
  {
   "cell_type": "code",
   "execution_count": null,
   "metadata": {
    "id": "_64Di5Lfo3oL"
   },
   "outputs": [],
   "source": [
    "import numpy as np\n",
    "import tensorflow\n",
    "from tensorflow import keras\n",
    "from sklearn import datasets\n",
    "from keras import layers, Sequential\n"
   ]
  },
  {
   "cell_type": "markdown",
   "metadata": {
    "id": "nmsL78uuo70p"
   },
   "source": [
    "## Traitement des données\n",
    "\n",
    "Exécutez la cellule suivante pour récupérer la base de données MNIST."
   ]
  },
  {
   "cell_type": "code",
   "execution_count": null,
   "metadata": {
    "colab": {
     "base_uri": "https://localhost:8080/"
    },
    "id": "YTXXdeC6pC7t",
    "outputId": "e70a7f16-5838-4ac3-822c-32fda711d710"
   },
   "outputs": [
    {
     "data": {
      "text/plain": [
       "(1797, 64)"
      ]
     },
     "execution_count": 2,
     "metadata": {},
     "output_type": "execute_result"
    }
   ],
   "source": [
    "mnist = datasets.load_digits()\n",
    "np.shape(mnist.data)"
   ]
  },
  {
   "cell_type": "markdown",
   "metadata": {
    "id": "DIHeVpAMpPSs"
   },
   "source": [
    "Combien y a-t-il de classes différentes dans MNIST ? Combien aura-t-on de neurones de sortie dans le réseau ?"
   ]
  },
  {
   "cell_type": "markdown",
   "metadata": {
    "id": "1p568pzTpj2u"
   },
   "source": [
    "Réponse : **Il y a 10 classes dans mnist. On aura 10 neurones a la sortie de notre reseau**"
   ]
  },
  {
   "cell_type": "markdown",
   "metadata": {
    "id": "9ozVf3bEpk9e"
   },
   "source": [
    "En fonction de votre réponse à la question précédente, donner une fonction one_hot_encoding, qui à partir d'un nombre de classe et de l'ensemble des labels de la base de données MNIST, renvoie ces labels sous la forme de one hot vectors."
   ]
  },
  {
   "cell_type": "code",
   "execution_count": null,
   "metadata": {
    "id": "agzCqL6lqIGu"
   },
   "outputs": [],
   "source": [
    "def one_hot_encoding(label,nombre_classe) :\n",
    "  mat = np.zeros((len(label),nombre_classe))\n",
    "  for i in range(len(label)) :\n",
    "    l = label[i]\n",
    "    mat[i,l] = 1\n",
    "  return mat\n"
   ]
  },
  {
   "cell_type": "code",
   "execution_count": null,
   "metadata": {
    "colab": {
     "base_uri": "https://localhost:8080/"
    },
    "id": "_vusNmhGB0G-",
    "outputId": "cef01743-4ec9-43a0-bef4-310bd8948ce4"
   },
   "outputs": [
    {
     "data": {
      "text/plain": [
       "array([[1., 0., 0., ..., 0., 0., 0.],\n",
       "       [0., 1., 0., ..., 0., 0., 0.],\n",
       "       [0., 0., 1., ..., 0., 0., 0.],\n",
       "       ...,\n",
       "       [0., 0., 0., ..., 0., 1., 0.],\n",
       "       [0., 0., 0., ..., 0., 0., 1.],\n",
       "       [0., 0., 0., ..., 0., 1., 0.]])"
      ]
     },
     "execution_count": 4,
     "metadata": {},
     "output_type": "execute_result"
    }
   ],
   "source": [
    "one_hot_encoding(mnist.target,10)"
   ]
  },
  {
   "cell_type": "markdown",
   "metadata": {
    "id": "puQ4zSL7qJmx"
   },
   "source": [
    "Utiliser la fonction train_test_split de sklearn pour diviser votre base de données en ensemble d'entrainement et de test (choisir 20% de test_size).\n",
    "\n"
   ]
  },
  {
   "cell_type": "code",
   "execution_count": null,
   "metadata": {
    "id": "8cAzSfJBqTSQ"
   },
   "outputs": [],
   "source": [
    "from sklearn.model_selection import train_test_split\n",
    "x_train,x_test,y_train,y_test=train_test_split(mnist[\"data\"],mnist[\"target\"],test_size=0.2)"
   ]
  },
  {
   "cell_type": "markdown",
   "metadata": {
    "id": "cPqGBvqTqUna"
   },
   "source": [
    "## Premier réseau"
   ]
  },
  {
   "cell_type": "markdown",
   "metadata": {
    "id": "_IcPsex7qXMr"
   },
   "source": [
    "Notre premier réseau sera très simple. Il sera constitué d'une unique couche de nb_class neurones.\n",
    "\n",
    "Quelle doit-être la fonction d'activation des neurones de cette couche ? Quelle doit-être la fonction de coût ?"
   ]
  },
  {
   "cell_type": "markdown",
   "metadata": {
    "id": "pMUvIfb1r_il"
   },
   "source": [
    "Réponse : **la fonction d'activation doit etre softmax et la fonction de cout doit etre la categorical cross entropy**"
   ]
  },
  {
   "cell_type": "markdown",
   "metadata": {
    "id": "5XNRhznFrOPn"
   },
   "source": [
    "Construire ce réseau avec Keras. Utiliser la fonction .summary() pour vérifier l'architecture de voter réseau."
   ]
  },
  {
   "cell_type": "code",
   "execution_count": null,
   "metadata": {
    "id": "FAKoDEN_rBr-"
   },
   "outputs": [],
   "source": [
    "model= Sequential()\n",
    "model.add(layers.Input(shape=(64,)))\n",
    "model.add(layers.Dense(10,activation='softmax'))"
   ]
  },
  {
   "cell_type": "markdown",
   "metadata": {
    "id": "xU5qiSmNrDBX"
   },
   "source": [
    "Compiler maintenant votre modèle, en utilisant un optimizer \"sgd\" et et la fonction de coût de votre réponse précédente."
   ]
  },
  {
   "cell_type": "code",
   "execution_count": null,
   "metadata": {
    "colab": {
     "base_uri": "https://localhost:8080/"
    },
    "id": "VG3zi0ki3jdD",
    "outputId": "8053e340-5e43-443e-9603-dd556ccf17cb"
   },
   "outputs": [
    {
     "name": "stdout",
     "output_type": "stream",
     "text": [
      "Model: \"sequential\"\n",
      "_________________________________________________________________\n",
      " Layer (type)                Output Shape              Param #   \n",
      "=================================================================\n",
      " dense (Dense)               (None, 10)                650       \n",
      "                                                                 \n",
      "=================================================================\n",
      "Total params: 650\n",
      "Trainable params: 650\n",
      "Non-trainable params: 0\n",
      "_________________________________________________________________\n"
     ]
    }
   ],
   "source": [
    "model.compile (optimizer='sgd',loss=keras.losses.CategoricalCrossentropy(),metrics=[keras.metrics.CategoricalAccuracy()])\n",
    "model.summary()"
   ]
  },
  {
   "cell_type": "markdown",
   "metadata": {
    "id": "TxWWbtZ_3lFm"
   },
   "source": [
    "Entrainer votre modèle avec votre ensemble d'entrainement et vos labels sous forme de hot-hot vectors. Choisir une taille de batch de 64 et un nombre d'époque de 10."
   ]
  },
  {
   "cell_type": "code",
   "execution_count": null,
   "metadata": {
    "colab": {
     "base_uri": "https://localhost:8080/"
    },
    "id": "Bl1rrwfh3x-k",
    "outputId": "7b176b2c-4562-40be-bdef-68dd1b19e64f"
   },
   "outputs": [
    {
     "name": "stdout",
     "output_type": "stream",
     "text": [
      "Epoch 1/10\n",
      "23/23 [==============================] - 0s 2ms/step - loss: 4.7132 - categorical_accuracy: 0.3960\n",
      "Epoch 2/10\n",
      "23/23 [==============================] - 0s 2ms/step - loss: 1.2358 - categorical_accuracy: 0.7049\n",
      "Epoch 3/10\n",
      "23/23 [==============================] - 0s 2ms/step - loss: 0.7414 - categorical_accuracy: 0.8114\n",
      "Epoch 4/10\n",
      "23/23 [==============================] - 0s 2ms/step - loss: 0.5468 - categorical_accuracy: 0.8553\n",
      "Epoch 5/10\n",
      "23/23 [==============================] - 0s 3ms/step - loss: 0.4409 - categorical_accuracy: 0.8817\n",
      "Epoch 6/10\n",
      "23/23 [==============================] - 0s 3ms/step - loss: 0.3908 - categorical_accuracy: 0.8880\n",
      "Epoch 7/10\n",
      "23/23 [==============================] - 0s 2ms/step - loss: 0.3337 - categorical_accuracy: 0.9074\n",
      "Epoch 8/10\n",
      "23/23 [==============================] - 0s 2ms/step - loss: 0.3065 - categorical_accuracy: 0.9165\n",
      "Epoch 9/10\n",
      "23/23 [==============================] - 0s 2ms/step - loss: 0.2746 - categorical_accuracy: 0.9130\n",
      "Epoch 10/10\n",
      "23/23 [==============================] - 0s 3ms/step - loss: 0.2562 - categorical_accuracy: 0.9276\n"
     ]
    },
    {
     "data": {
      "text/plain": [
       "<keras.callbacks.History at 0x7fc13231d790>"
      ]
     },
     "execution_count": 8,
     "metadata": {},
     "output_type": "execute_result"
    }
   ],
   "source": [
    "model.fit(x_train,one_hot_encoding(y_train,10),batch_size=64,epochs=10)"
   ]
  },
  {
   "cell_type": "markdown",
   "metadata": {
    "id": "rA62moxe3zF1"
   },
   "source": [
    "Utiliser la fonction .predict pour récupérer les prédiction de votre modèle sur l'ensemble de test."
   ]
  },
  {
   "cell_type": "code",
   "execution_count": null,
   "metadata": {
    "colab": {
     "base_uri": "https://localhost:8080/"
    },
    "id": "NO4UUs0N37mM",
    "outputId": "3b90c3de-0915-49ac-c4b6-8a85aa96ba32"
   },
   "outputs": [
    {
     "name": "stdout",
     "output_type": "stream",
     "text": [
      "12/12 [==============================] - 0s 2ms/step\n",
      "[[9.6986783e-09 3.7003194e-03 1.3609717e-02 ... 3.8695300e-05\n",
      "  1.3058339e-03 6.0411843e-05]\n",
      " [1.3083413e-09 1.7339229e-06 3.0361883e-07 ... 9.9613196e-01\n",
      "  4.5394572e-05 3.3207164e-07]\n",
      " [8.7763794e-04 2.1598798e-03 1.9932406e-05 ... 7.8387411e-06\n",
      "  6.1117655e-01 1.5846232e-02]\n",
      " ...\n",
      " [1.6039130e-10 2.3049597e-11 7.0961135e-13 ... 5.5442012e-11\n",
      "  3.1293570e-07 7.4160163e-04]\n",
      " [2.1020269e-05 2.4140930e-04 7.0900086e-08 ... 9.6433185e-04\n",
      "  6.5326508e-06 9.9632365e-01]\n",
      " [3.9091192e-05 6.5572117e-06 4.0274792e-04 ... 2.8300451e-03\n",
      "  2.9373538e-01 5.6031207e-04]]\n"
     ]
    }
   ],
   "source": [
    "ychap=model.predict(x_test)\n",
    "print(ychap)"
   ]
  },
  {
   "cell_type": "code",
   "execution_count": null,
   "metadata": {
    "colab": {
     "base_uri": "https://localhost:8080/"
    },
    "id": "zv5OSic5yRSl",
    "outputId": "a786412f-8373-405d-e698-04da2c4866a6"
   },
   "outputs": [
    {
     "name": "stdout",
     "output_type": "stream",
     "text": [
      "[[0. 0. 0. ... 0. 0. 0.]\n",
      " [0. 0. 0. ... 1. 0. 0.]\n",
      " [0. 0. 0. ... 0. 1. 0.]\n",
      " ...\n",
      " [0. 0. 0. ... 0. 0. 0.]\n",
      " [0. 0. 0. ... 0. 0. 1.]\n",
      " [0. 0. 0. ... 0. 0. 0.]]\n"
     ]
    }
   ],
   "source": [
    "ychap_arrondi=np.around(ychap)\n",
    "print(ychap_arrondi)"
   ]
  },
  {
   "cell_type": "markdown",
   "metadata": {
    "id": "wWBYvk6j5Rht"
   },
   "source": [
    "Afficher un exemple (en utilisant imshow) et sa prédiction."
   ]
  },
  {
   "cell_type": "code",
   "execution_count": null,
   "metadata": {
    "colab": {
     "base_uri": "https://localhost:8080/",
     "height": 282
    },
    "id": "msccZZfs5Y4P",
    "outputId": "367a3645-4bb0-41b4-83ee-9b56f6821218"
   },
   "outputs": [
    {
     "data": {
      "text/plain": [
       "<matplotlib.image.AxesImage at 0x7fc1321fc7d0>"
      ]
     },
     "execution_count": 11,
     "metadata": {},
     "output_type": "execute_result"
    },
    {
     "data": {
      "image/png": "[encoded data removed]",
      "text/plain": [
       "<Figure size 432x288 with 1 Axes>"
      ]
     },
     "metadata": {
      "needs_background": "light"
     },
     "output_type": "display_data"
    }
   ],
   "source": [
    "import matplotlib.pyplot as plt\n",
    "plt.imshow(x_test[1].reshape([8,8]))\n"
   ]
  },
  {
   "cell_type": "code",
   "execution_count": null,
   "metadata": {
    "colab": {
     "base_uri": "https://localhost:8080/"
    },
    "id": "YJppxp7DyEz9",
    "outputId": "683e5f56-f578-4003-85a7-8eb922c7f977"
   },
   "outputs": [
    {
     "data": {
      "text/plain": [
       "array([0., 0., 0., 0., 0., 0., 0., 1., 0., 0.], dtype=float32)"
      ]
     },
     "execution_count": 12,
     "metadata": {},
     "output_type": "execute_result"
    }
   ],
   "source": [
    "ychap_arrondi[1]"
   ]
  },
  {
   "cell_type": "markdown",
   "metadata": {
    "id": "FRb_ZWHy386G"
   },
   "source": [
    "Implémenter une fonction accuracy qui, a partit des prédictions d'un réseau et d'un ensemble de labels, renvoie l'accuracy du modèle."
   ]
  },
  {
   "cell_type": "code",
   "execution_count": null,
   "metadata": {
    "id": "D9LgRsbDHM47"
   },
   "outputs": [],
   "source": [
    "def to_class(m):\n",
    "  (labels,nb_classes)=np.shape(m)\n",
    "  t=np.zeros(labels)\n",
    "  for i in range(len(m)):\n",
    "    for j in range(nb_classes):\n",
    "      if m[i,j]==1:\n",
    "        t[i]=j\n",
    "  return t"
   ]
  },
  {
   "cell_type": "code",
   "execution_count": null,
   "metadata": {
    "id": "Mfh7pEGiW1oK"
   },
   "outputs": [],
   "source": [
    "def accuracy2(pred,lab):\n",
    "  truepred=0\n",
    "  for i in range(len(lab)):\n",
    "    if lab[i]==pred[i]:\n",
    "        truepred+=1\n",
    "  return print('accuracy=',truepred*1.0/len(lab))"
   ]
  },
  {
   "cell_type": "code",
   "execution_count": null,
   "metadata": {
    "colab": {
     "base_uri": "https://localhost:8080/"
    },
    "id": "iqlUf5NSXTtX",
    "outputId": "a333635f-c187-493a-cc55-8517ca522194"
   },
   "outputs": [
    {
     "name": "stdout",
     "output_type": "stream",
     "text": [
      "accuracy= 0.8916666666666667\n"
     ]
    }
   ],
   "source": [
    "accuracy2(to_class(ychap_arrondi),y_test)"
   ]
  },
  {
   "cell_type": "markdown",
   "metadata": {
    "id": "jp6jVDKO4GSm"
   },
   "source": [
    "Comparer vos résultats avec les résultats fournis par keras avec la fonction .evaluate (voir https://keras.io/api/models/model_training_apis/#evaluate-method)"
   ]
  },
  {
   "cell_type": "code",
   "execution_count": null,
   "metadata": {
    "colab": {
     "base_uri": "https://localhost:8080/"
    },
    "id": "cEOeAo-z4RiK",
    "outputId": "c60c4648-d640-4dce-9f4f-0d3dfab430f2"
   },
   "outputs": [
    {
     "name": "stdout",
     "output_type": "stream",
     "text": [
      "12/12 [==============================] - 0s 2ms/step - loss: 0.3247 - categorical_accuracy: 0.8917\n"
     ]
    },
    {
     "data": {
      "text/plain": [
       "[0.3247262239456177, 0.8916666507720947]"
      ]
     },
     "execution_count": 16,
     "metadata": {},
     "output_type": "execute_result"
    }
   ],
   "source": [
    "model.evaluate(x_test,one_hot_encoding(y_test,10))"
   ]
  },
  {
   "cell_type": "markdown",
   "metadata": {
    "id": "CRmvS7cM4S7f"
   },
   "source": [
    "Donner une fonction confusion_matrix, qui produit, à partir des predictions d'un modèle et des labels, la matrice de confusion du modèle.\n",
    "\n",
    "En fonction de votre implémentation, il peut être utile de définir une fonction to_class, qui à partir d'un vecteur de prédiction (ou d'un one-hot vector), renvoie la classe correspondante (le numéro dessiné)."
   ]
  },
  {
   "cell_type": "code",
   "execution_count": null,
   "metadata": {
    "colab": {
     "base_uri": "https://localhost:8080/"
    },
    "id": "vpUlxWSFL-7f",
    "outputId": "e69b5897-82af-4789-a1c0-00819e1cd0b1"
   },
   "outputs": [
    {
     "data": {
      "text/plain": [
       "array([0., 1., 2., ..., 8., 9., 8.])"
      ]
     },
     "execution_count": 17,
     "metadata": {},
     "output_type": "execute_result"
    }
   ],
   "source": [
    "to_class(one_hot_encoding(mnist.target,10))#test de to_class"
   ]
  },
  {
   "cell_type": "code",
   "execution_count": null,
   "metadata": {
    "id": "g7oO14_P7Xsc"
   },
   "outputs": [],
   "source": [
    "def confusion_matrix(pred,lab):\n",
    "  mat=np.zeros((10,10))\n",
    "  for i in range(10):\n",
    "    for j in range(10):\n",
    "      for k in range(len(lab)):\n",
    "        if pred[k]==i and lab[k]==j:\n",
    "          mat[i,j]+=1\n",
    "  return mat"
   ]
  },
  {
   "cell_type": "markdown",
   "metadata": {
    "id": "CCcFxYrR405-"
   },
   "source": [
    "Afficher la matrice de confusion"
   ]
  },
  {
   "cell_type": "code",
   "execution_count": null,
   "metadata": {
    "colab": {
     "base_uri": "https://localhost:8080/"
    },
    "id": "j0-fMdRO42gn",
    "outputId": "4b748237-987e-43a7-dbaf-7d48a064e643"
   },
   "outputs": [
    {
     "data": {
      "text/plain": [
       "array([[31.,  1.,  1.,  1.,  0.,  0.,  1.,  0.,  1.,  3.],\n",
       "       [ 0., 25.,  1.,  0.,  0.,  0.,  0.,  1.,  0.,  4.],\n",
       "       [ 0.,  0., 33.,  0.,  0.,  0.,  0.,  0.,  0.,  0.],\n",
       "       [ 0.,  0.,  0., 26.,  0.,  0.,  0.,  1.,  0.,  4.],\n",
       "       [ 0.,  0.,  0.,  0., 39.,  1.,  0.,  4.,  0.,  1.],\n",
       "       [ 1.,  0.,  0.,  1.,  0., 34.,  0.,  0.,  2.,  0.],\n",
       "       [ 1.,  0.,  1.,  0.,  2.,  0., 28.,  0.,  0.,  0.],\n",
       "       [ 0.,  0.,  0.,  0.,  0.,  0.,  0., 33.,  0.,  0.],\n",
       "       [ 0.,  0.,  2.,  1.,  0.,  0.,  0.,  0., 32.,  0.],\n",
       "       [ 0.,  1.,  0.,  0.,  0.,  0.,  0.,  1.,  1., 40.]])"
      ]
     },
     "execution_count": 19,
     "metadata": {},
     "output_type": "execute_result"
    }
   ],
   "source": [
    "confusion_matrix(to_class(ychap_arrondi),y_test)"
   ]
  },
  {
   "cell_type": "markdown",
   "metadata": {
    "id": "wXMSKPna43-F"
   },
   "source": [
    "## Nombre d'époques et complexité du modèle"
   ]
  },
  {
   "cell_type": "markdown",
   "metadata": {
    "id": "6ZUC_kgn48X_"
   },
   "source": [
    "Combien faut-il d'époque pour que votre premier modèle atteigne 95% d'accuracy ?"
   ]
  },
  {
   "cell_type": "code",
   "execution_count": null,
   "metadata": {
    "colab": {
     "base_uri": "https://localhost:8080/"
    },
    "id": "eUIpuVRr5Baq",
    "outputId": "efc71b9b-d519-4db8-82de-b3a855e0bffc"
   },
   "outputs": [
    {
     "name": "stdout",
     "output_type": "stream",
     "text": [
      "Model: \"sequential_1\"\n",
      "_________________________________________________________________\n",
      " Layer (type)                Output Shape              Param #   \n",
      "=================================================================\n",
      " dense_1 (Dense)             (None, 10)                650       \n",
      "                                                                 \n",
      "=================================================================\n",
      "Total params: 650\n",
      "Trainable params: 650\n",
      "Non-trainable params: 0\n",
      "_________________________________________________________________\n",
      "Epoch 1/25\n",
      "23/23 [==============================] - 1s 3ms/step - loss: 3.8886 - categorical_accuracy: 0.4106\n",
      "Epoch 2/25\n",
      "23/23 [==============================] - 0s 4ms/step - loss: 1.3256 - categorical_accuracy: 0.6980\n",
      "Epoch 3/25\n",
      "23/23 [==============================] - 0s 4ms/step - loss: 0.8101 - categorical_accuracy: 0.7947\n",
      "Epoch 4/25\n",
      "23/23 [==============================] - 0s 3ms/step - loss: 0.5570 - categorical_accuracy: 0.8455\n",
      "Epoch 5/25\n",
      "23/23 [==============================] - 0s 3ms/step - loss: 0.4202 - categorical_accuracy: 0.8782\n",
      "Epoch 6/25\n",
      "23/23 [==============================] - 0s 4ms/step - loss: 0.3524 - categorical_accuracy: 0.8935\n",
      "Epoch 7/25\n",
      "23/23 [==============================] - 0s 3ms/step - loss: 0.2911 - categorical_accuracy: 0.9047\n",
      "Epoch 8/25\n",
      "23/23 [==============================] - 0s 4ms/step - loss: 0.2470 - categorical_accuracy: 0.9221\n",
      "Epoch 9/25\n",
      "23/23 [==============================] - 0s 3ms/step - loss: 0.2240 - categorical_accuracy: 0.9241\n",
      "Epoch 10/25\n",
      "23/23 [==============================] - 0s 3ms/step - loss: 0.1986 - categorical_accuracy: 0.9318\n",
      "Epoch 11/25\n",
      "23/23 [==============================] - 0s 4ms/step - loss: 0.1850 - categorical_accuracy: 0.9395\n",
      "Epoch 12/25\n",
      "23/23 [==============================] - 0s 3ms/step - loss: 0.1719 - categorical_accuracy: 0.9485\n",
      "Epoch 13/25\n",
      "23/23 [==============================] - 0s 4ms/step - loss: 0.1584 - categorical_accuracy: 0.9485\n",
      "Epoch 14/25\n",
      "23/23 [==============================] - 0s 3ms/step - loss: 0.1505 - categorical_accuracy: 0.9499\n",
      "Epoch 15/25\n",
      "23/23 [==============================] - 0s 4ms/step - loss: 0.1375 - categorical_accuracy: 0.9582\n",
      "Epoch 16/25\n",
      "23/23 [==============================] - 0s 3ms/step - loss: 0.1359 - categorical_accuracy: 0.9596\n",
      "Epoch 17/25\n",
      "23/23 [==============================] - 0s 3ms/step - loss: 0.1290 - categorical_accuracy: 0.9610\n",
      "Epoch 18/25\n",
      "23/23 [==============================] - 0s 4ms/step - loss: 0.1220 - categorical_accuracy: 0.9631\n",
      "Epoch 19/25\n",
      "23/23 [==============================] - 0s 4ms/step - loss: 0.1200 - categorical_accuracy: 0.9638\n",
      "Epoch 20/25\n",
      "23/23 [==============================] - 0s 3ms/step - loss: 0.1118 - categorical_accuracy: 0.9666\n",
      "Epoch 21/25\n",
      "23/23 [==============================] - 0s 3ms/step - loss: 0.1096 - categorical_accuracy: 0.9659\n",
      "Epoch 22/25\n",
      "23/23 [==============================] - 0s 3ms/step - loss: 0.1053 - categorical_accuracy: 0.9694\n",
      "Epoch 23/25\n",
      "23/23 [==============================] - 0s 3ms/step - loss: 0.0980 - categorical_accuracy: 0.9729\n",
      "Epoch 24/25\n",
      "23/23 [==============================] - 0s 3ms/step - loss: 0.0989 - categorical_accuracy: 0.9749\n",
      "Epoch 25/25\n",
      "23/23 [==============================] - 0s 3ms/step - loss: 0.0944 - categorical_accuracy: 0.9743\n"
     ]
    },
    {
     "data": {
      "text/plain": [
       "<keras.callbacks.History at 0x7fc12d928190>"
      ]
     },
     "execution_count": 20,
     "metadata": {},
     "output_type": "execute_result"
    }
   ],
   "source": [
    "model1= Sequential()\n",
    "model1.add(layers.Input(shape=(64,)))\n",
    "model1.add(layers.Dense(10,activation='softmax'))\n",
    "model1.compile (optimizer='sgd',loss=keras.losses.CategoricalCrossentropy(),metrics=[keras.metrics.CategoricalAccuracy()])\n",
    "model1.summary()\n",
    "model1.fit(x_train,one_hot_encoding(y_train,10),batch_size=64,epochs=25)"
   ]
  },
  {
   "cell_type": "code",
   "execution_count": null,
   "metadata": {
    "colab": {
     "base_uri": "https://localhost:8080/"
    },
    "id": "b9URrnnJ9V9d",
    "outputId": "b05415bd-34cd-4bfe-cb3e-99b813be0f36"
   },
   "outputs": [
    {
     "name": "stdout",
     "output_type": "stream",
     "text": [
      "12/12 [==============================] - 0s 3ms/step - loss: 0.1299 - categorical_accuracy: 0.9583\n"
     ]
    },
    {
     "data": {
      "text/plain": [
       "[0.12992224097251892, 0.9583333134651184]"
      ]
     },
     "execution_count": 21,
     "metadata": {},
     "output_type": "execute_result"
    }
   ],
   "source": [
    "model1.evaluate(x_test,one_hot_encoding(y_test,10))"
   ]
  },
  {
   "cell_type": "markdown",
   "metadata": {
    "id": "fEkNTzyf5CiU"
   },
   "source": [
    "Réponse : **il faut 25 epoques pour atteindre 95% d'accuracy**"
   ]
  },
  {
   "cell_type": "markdown",
   "metadata": {
    "id": "5VV0I1qe5Dn2"
   },
   "source": [
    "Définir un deuxieme réseau a deux couches. La couche cachée contient 32 neurones. La couche de sortie en contient 10. Entrainer ce modèle.\n",
    "Combien faut-il d'époques pour atteindre 95% d'accuracy ?"
   ]
  },
  {
   "cell_type": "code",
   "execution_count": null,
   "metadata": {
    "colab": {
     "base_uri": "https://localhost:8080/"
    },
    "id": "GS2DGceB5Ofd",
    "outputId": "d1d5a878-d19c-4368-9b63-2bf340eef596"
   },
   "outputs": [
    {
     "name": "stdout",
     "output_type": "stream",
     "text": [
      "Model: \"sequential_2\"\n",
      "_________________________________________________________________\n",
      " Layer (type)                Output Shape              Param #   \n",
      "=================================================================\n",
      " dense_2 (Dense)             (None, 32)                2080      \n",
      "                                                                 \n",
      " dense_3 (Dense)             (None, 10)                330       \n",
      "                                                                 \n",
      "=================================================================\n",
      "Total params: 2,410\n",
      "Trainable params: 2,410\n",
      "Non-trainable params: 0\n",
      "_________________________________________________________________\n"
     ]
    }
   ],
   "source": [
    "model2= Sequential()\n",
    "model2.add(layers.Input(shape=(64,)))\n",
    "model2.add(layers.Dense(32))\n",
    "model2.add(layers.Dense(10,activation='softmax'))\n",
    "model2.compile (optimizer='sgd',loss=keras.losses.CategoricalCrossentropy(),metrics=[keras.metrics.CategoricalAccuracy()])\n",
    "model2.summary()\n"
   ]
  },
  {
   "cell_type": "code",
   "execution_count": null,
   "metadata": {
    "colab": {
     "base_uri": "https://localhost:8080/"
    },
    "id": "YhI2QIMg4tqg",
    "outputId": "a62f4f8d-4270-420a-bf11-a7aa5191b602"
   },
   "outputs": [
    {
     "name": "stdout",
     "output_type": "stream",
     "text": [
      "Epoch 1/20\n",
      "23/23 [==============================] - 1s 3ms/step - loss: 4.8086 - categorical_accuracy: 0.4857\n",
      "Epoch 2/20\n",
      "23/23 [==============================] - 0s 5ms/step - loss: 0.7969 - categorical_accuracy: 0.8121\n",
      "Epoch 3/20\n",
      "23/23 [==============================] - 0s 5ms/step - loss: 0.4605 - categorical_accuracy: 0.8740\n",
      "Epoch 4/20\n",
      "23/23 [==============================] - 0s 5ms/step - loss: 0.3305 - categorical_accuracy: 0.9005\n",
      "Epoch 5/20\n",
      "23/23 [==============================] - 0s 3ms/step - loss: 0.2821 - categorical_accuracy: 0.9102\n",
      "Epoch 6/20\n",
      "23/23 [==============================] - 0s 3ms/step - loss: 0.1945 - categorical_accuracy: 0.9443\n",
      "Epoch 7/20\n",
      "23/23 [==============================] - 0s 4ms/step - loss: 0.1818 - categorical_accuracy: 0.9443\n",
      "Epoch 8/20\n",
      "23/23 [==============================] - 0s 3ms/step - loss: 0.1497 - categorical_accuracy: 0.9499\n",
      "Epoch 9/20\n",
      "23/23 [==============================] - 0s 7ms/step - loss: 0.1460 - categorical_accuracy: 0.9527\n",
      "Epoch 10/20\n",
      "23/23 [==============================] - 0s 4ms/step - loss: 0.1303 - categorical_accuracy: 0.9569\n",
      "Epoch 11/20\n",
      "23/23 [==============================] - 0s 3ms/step - loss: 0.1199 - categorical_accuracy: 0.9555\n",
      "Epoch 12/20\n",
      "23/23 [==============================] - 0s 3ms/step - loss: 0.1101 - categorical_accuracy: 0.9659\n",
      "Epoch 13/20\n",
      "23/23 [==============================] - 0s 3ms/step - loss: 0.1085 - categorical_accuracy: 0.9673\n",
      "Epoch 14/20\n",
      "23/23 [==============================] - 0s 3ms/step - loss: 0.0904 - categorical_accuracy: 0.9701\n",
      "Epoch 15/20\n",
      "23/23 [==============================] - 0s 4ms/step - loss: 0.0907 - categorical_accuracy: 0.9659\n",
      "Epoch 16/20\n",
      "23/23 [==============================] - 0s 3ms/step - loss: 0.0844 - categorical_accuracy: 0.9722\n",
      "Epoch 17/20\n",
      "23/23 [==============================] - 0s 3ms/step - loss: 0.0831 - categorical_accuracy: 0.9729\n",
      "Epoch 18/20\n",
      "23/23 [==============================] - 0s 3ms/step - loss: 0.0737 - categorical_accuracy: 0.9784\n",
      "Epoch 19/20\n",
      "23/23 [==============================] - 0s 4ms/step - loss: 0.0762 - categorical_accuracy: 0.9756\n",
      "Epoch 20/20\n",
      "23/23 [==============================] - 0s 3ms/step - loss: 0.0701 - categorical_accuracy: 0.9743\n"
     ]
    },
    {
     "data": {
      "text/plain": [
       "<keras.callbacks.History at 0x7fc12d7e76d0>"
      ]
     },
     "execution_count": 23,
     "metadata": {},
     "output_type": "execute_result"
    }
   ],
   "source": [
    "model2.fit(x_train,one_hot_encoding(y_train,10),batch_size=64,epochs=20)"
   ]
  },
  {
   "cell_type": "code",
   "execution_count": null,
   "metadata": {
    "colab": {
     "base_uri": "https://localhost:8080/"
    },
    "id": "NwKelRh64TyO",
    "outputId": "c8d902f5-fb2d-4b60-b307-c2032f6efab6"
   },
   "outputs": [
    {
     "name": "stdout",
     "output_type": "stream",
     "text": [
      "12/12 [==============================] - 0s 3ms/step - loss: 0.1906 - categorical_accuracy: 0.9500\n"
     ]
    },
    {
     "data": {
      "text/plain": [
       "[0.19055184721946716, 0.949999988079071]"
      ]
     },
     "execution_count": 24,
     "metadata": {},
     "output_type": "execute_result"
    }
   ],
   "source": [
    "model2.evaluate(x_test,one_hot_encoding(y_test,10)) #sur l'ensemble test\n"
   ]
  },
  {
   "cell_type": "markdown",
   "metadata": {
    "id": "JwEfdA8H_4nh"
   },
   "source": [
    "**on obtiens 95% d'accuracy sur l'ensemble de test a partir de 25 epoques pour le 1er model alors que 20 suffisent pour le 2eme(sachant que les resultats peuvent varier en fonction de la repartion des train/test sets)**"
   ]
  },
  {
   "cell_type": "code",
   "execution_count": null,
   "metadata": {
    "colab": {
     "base_uri": "https://localhost:8080/"
    },
    "executionInfo": {
     "elapsed": 316,
     "status": "ok",
     "timestamp": 1674326553750,
     "user": {
      "displayName": "Karim Slimani",
      "userId": "11209295401651886273"
     },
     "user_tz": -60
    },
    "id": "VP4j5zxioW6X",
    "outputId": "a6c0ac80-b965-4f1f-864e-f290c595a145"
   },
   "outputs": [
    {
     "name": "stdout",
     "output_type": "stream",
     "text": [
      "0\n",
      "1\n",
      "2\n"
     ]
    }
   ],
   "source": [
    "for i in range(3):\n"
   ]
  }
 ],
 "metadata": {
  "colab": {
   "provenance": []
  },
  "kernelspec": {
   "display_name": "Python 3 (ipykernel)",
   "language": "python",
   "name": "python3"
  },
  "language_info": {
   "codemirror_mode": {
    "name": "ipython",
    "version": 3
   },
   "file_extension": ".py",
   "mimetype": "text/x-python",
   "name": "python",
   "nbconvert_exporter": "python",
   "pygments_lexer": "ipython3",
   "version": "3.12.4"
  }
 },
 "nbformat": 4,
 "nbformat_minor": 4
}
