{
 "cells": [
  {
   "cell_type": "markdown",
   "metadata": {
    "id": "_zkrtuKxQgpO"
   },
   "source": [
    "Dans ce TP, le but est d'implémenter l'algorithme de PCA sur la base de données MNIST. \n",
    "On veut réduire nos données dans un espace de dimension 2 pour pouvoir visualiser cet espace par la suite. \n",
    "\n",
    "La première partie du TP consiste à récuperer le dataset MNIST et afficher une image. Reprenez votre code du TP2 pour cela."
   ]
  },
  {
   "cell_type": "code",
   "execution_count": 1,
   "metadata": {
    "id": "FAokluLCQZW3"
   },
   "outputs": [],
   "source": [
    "import numpy as np\n",
    "from sklearn import datasets\n",
    "import matplotlib.pylab as plt\n",
    "from scipy.linalg import eigh"
   ]
  },
  {
   "cell_type": "markdown",
   "metadata": {
    "id": "DCK_RMPZQ-O_"
   },
   "source": [
    "## Mnist\n",
    "\n",
    "Executer la cellule suivante pour récupérer le dataset. La variable qui contient le dataset est nommé mnist. "
   ]
  },
  {
   "cell_type": "code",
   "execution_count": 2,
   "metadata": {
    "id": "WSS1eUe3RAxx"
   },
   "outputs": [],
   "source": [
    "mnist = datasets.load_digits()"
   ]
  },
  {
   "cell_type": "markdown",
   "metadata": {
    "id": "-GmjUeEsRUB_"
   },
   "source": [
    "Utiliser la fonction imshow de matplotlib (https://matplotlib.org/stable/api/_as_gen/matplotlib.pyplot.imshow.html) pour afficher une image du dataset. \n",
    "Il faudra transformer un vecteur de la base de données en matrice. "
   ]
  },
  {
   "cell_type": "code",
   "execution_count": 4,
   "metadata": {
    "id": "KW-ppIZqRcu1"
   },
   "outputs": [],
   "source": [
    "def vectenmat(v):\n",
    "    a=np.zeros([8,8])\n",
    "    for i in range(8):\n",
    "      a[i,:]=v[i*8:i*8+8]\n",
    "    return a\n"
   ]
  },
  {
   "cell_type": "code",
   "execution_count": 5,
   "metadata": {
    "colab": {
     "base_uri": "https://localhost:8080/",
     "height": 281
    },
    "id": "Qxmj3-bm2M9C",
    "outputId": "d1b54dd4-ab7e-4ff7-eda5-a4cc15398e9a"
   },
   "outputs": [
    {
     "data": {
      "image/png": "[encoded data removed]",
      "text/plain": [
       "<Figure size 432x288 with 1 Axes>"
      ]
     },
     "metadata": {
      "needs_background": "light"
     },
     "output_type": "display_data"
    }
   ],
   "source": [
    "A=vectenmat(mnist.data[1])\n",
    "plt.imshow(vectenmat(mnist.data[1]))\n",
    "plt.title('le nombre')\n",
    "plt.show()"
   ]
  },
  {
   "cell_type": "markdown",
   "metadata": {
    "id": "wQRihprASA5e"
   },
   "source": [
    "Stocker vos données dans une variable db. "
   ]
  },
  {
   "cell_type": "code",
   "execution_count": 15,
   "metadata": {
    "colab": {
     "base_uri": "https://localhost:8080/"
    },
    "id": "QMwJCE0NSFGO",
    "outputId": "c1ff511c-4d26-4775-b0f0-2183ae5f09e4"
   },
   "outputs": [
    {
     "name": "stdout",
     "output_type": "stream",
     "text": [
      "[[ 0.  0.  5. ...  0.  0.  0.]\n",
      " [ 0.  0.  0. ... 10.  0.  0.]\n",
      " [ 0.  0.  0. ... 16.  9.  0.]\n",
      " ...\n",
      " [ 0.  0.  1. ...  6.  0.  0.]\n",
      " [ 0.  0.  2. ... 12.  0.  0.]\n",
      " [ 0.  0. 10. ... 12.  1.  0.]]\n"
     ]
    }
   ],
   "source": [
    "db=mnist.data\n",
    "print(db)"
   ]
  },
  {
   "cell_type": "markdown",
   "metadata": {
    "id": "zcqHeyxBRdKe"
   },
   "source": [
    "## PCA\n",
    "\n",
    "Il faut d'abord centrer et réduire nos données (c'est-à-dire faire en sorte qu'elles aient une moyenne nulle et un ecart typ de 1. \n",
    "\n",
    "Donner le code python nécessaire pour centrer et réduire votre variable db. \n",
    "Stocker vos données stockées et réduites dans une matrice standard_db."
   ]
  },
  {
   "cell_type": "code",
   "execution_count": 8,
   "metadata": {
    "id": "zecmvADkSPkP"
   },
   "outputs": [],
   "source": [
    "ndb=(db-np.mean(db))/(np.std(db)+1e-8)"
   ]
  },
  {
   "cell_type": "markdown",
   "metadata": {
    "id": "6a2jRnHtSP5I"
   },
   "source": [
    "Vérifier que standard_db a une moyenne nulle (ou proche) et un ecart type de 1 (ou proche)"
   ]
  },
  {
   "cell_type": "code",
   "execution_count": 13,
   "metadata": {
    "colab": {
     "base_uri": "https://localhost:8080/"
    },
    "id": "AyUbLFx-SUWQ",
    "outputId": "21ea6f55-9b17-417f-8dcb-b92303ddbf5d"
   },
   "outputs": [
    {
     "name": "stdout",
     "output_type": "stream",
     "text": [
      "la moyenne -2.638092551557829e-17 l'ecart type 0.9999999983379836\n"
     ]
    }
   ],
   "source": [
    "print('la moyenne', np.mean(ndb), \"l'ecart type\", np.std(ndb))"
   ]
  },
  {
   "cell_type": "markdown",
   "metadata": {
    "id": "C3bEcZSKSUkQ"
   },
   "source": [
    "On va utiliser la fonction cov de numpy (https://numpy.org/doc/stable/reference/generated/numpy.cov.html) pour calculer la matrice de covariance de nos données. \n",
    "\n",
    "Quelles sont les variables dont on veut mesurer la covariance dans notre cas ? \n",
    "Quelles doivent être les dimensions de cette matrice de covariance ? "
   ]
  },
  {
   "cell_type": "markdown",
   "metadata": {
    "id": "RMYIClWCSjT_"
   },
   "source": [
    "Réponse :les pixels (colonnes de notre matrices) \n",
    "la matrice de covarience doit etre de taille 64 par 64 **texte en gras**"
   ]
  },
  {
   "cell_type": "markdown",
   "metadata": {
    "id": "wKql5_S1SkfW"
   },
   "source": [
    "Donner le code python permettant de calculer la matrice de covariance. Vérifier sa taille. "
   ]
  },
  {
   "cell_type": "code",
   "execution_count": 19,
   "metadata": {
    "colab": {
     "base_uri": "https://localhost:8080/"
    },
    "id": "2fI1n7NPSpL_",
    "outputId": "5c144246-c67d-4570-a526-6880b2d07a58"
   },
   "outputs": [
    {
     "data": {
      "text/plain": [
       "(64, 64)"
      ]
     },
     "execution_count": 19,
     "metadata": {},
     "output_type": "execute_result"
    }
   ],
   "source": [
    "co=np.cov(ndb,rowvar=False)\n",
    "np.shape(co)"
   ]
  },
  {
   "cell_type": "markdown",
   "metadata": {
    "id": "QGBclViMSpaF"
   },
   "source": [
    "On utilise la fonction eigh de scipy (https://docs.scipy.org/doc/scipy/reference/generated/scipy.linalg.eigh.html) qui renvoie un tuple formé des valeurs propres et vecteurs propres. \n",
    "\n",
    "Calculer les valeurs propres et vecteurs propres de la matrice de covariance. "
   ]
  },
  {
   "cell_type": "code",
   "execution_count": 25,
   "metadata": {
    "colab": {
     "base_uri": "https://localhost:8080/"
    },
    "id": "6Rj24oNAS6kH",
    "outputId": "69d4a9ea-7cd5-4a16-99eb-6c2ef651bab8"
   },
   "outputs": [
    {
     "name": "stdout",
     "output_type": "stream",
     "text": [
      "[[ 1.00000000e+00  0.00000000e+00  0.00000000e+00 ...  0.00000000e+00\n",
      "   0.00000000e+00  0.00000000e+00]\n",
      " [ 0.00000000e+00 -7.32744001e-14  2.55351296e-15 ... -1.83420720e-02\n",
      "   1.01064569e-02 -1.73094651e-02]\n",
      " [ 0.00000000e+00 -1.31751374e-15 -3.27898953e-16 ... -1.26475543e-01\n",
      "   4.90849204e-02 -2.23428835e-01]\n",
      " ...\n",
      " [ 0.00000000e+00  6.15879310e-15 -5.92408067e-16 ... -2.32084163e-01\n",
      "  -1.76697117e-01 -8.94184677e-02]\n",
      " [ 0.00000000e+00 -1.63395425e-15 -4.51028104e-17 ... -1.67026563e-01\n",
      "  -1.94547053e-02 -3.65977111e-02]\n",
      " [ 0.00000000e+00  5.63358360e-15  1.66533454e-16 ... -3.48043832e-02\n",
      "   6.69693895e-03 -1.14684954e-02]]\n"
     ]
    }
   ],
   "source": [
    "(valeurs_propres , vecteurs_propres)=eigh(co)\n",
    "print(vecteurs_propres)"
   ]
  },
  {
   "cell_type": "markdown",
   "metadata": {
    "id": "o7A4YnpmS61G"
   },
   "source": [
    "Il faut maintenant récupérer les indices des plus grandes valeurs propres. \n",
    "Utiliser la fonction argsort de numpy pour cela (https://numpy.org/doc/stable/reference/generated/numpy.argsort.html)"
   ]
  },
  {
   "cell_type": "code",
   "execution_count": 23,
   "metadata": {
    "colab": {
     "base_uri": "https://localhost:8080/"
    },
    "id": "A8FrDqq_TKeY",
    "outputId": "b3a4d022-e87d-4453-9380-ae4d05b90133"
   },
   "outputs": [
    {
     "data": {
      "text/plain": [
       "array([ 0,  1,  2,  3,  4,  5,  6,  7,  8,  9, 10, 11, 12, 13, 14, 15, 16,\n",
       "       17, 18, 19, 20, 21, 22, 23, 24, 25, 26, 27, 28, 29, 30, 31, 32, 33,\n",
       "       34, 35, 36, 37, 38, 39, 40, 41, 42, 43, 44, 45, 46, 47, 48, 49, 50,\n",
       "       51, 52, 53, 54, 55, 56, 57, 58, 59, 60, 61, 62, 63])"
      ]
     },
     "execution_count": 23,
     "metadata": {},
     "output_type": "execute_result"
    }
   ],
   "source": [
    "np.argsort(valeurs_propres)"
   ]
  },
  {
   "cell_type": "markdown",
   "metadata": {
    "id": "QfWKZ0qJTPPY"
   },
   "source": [
    "On veut un espace réduit de dimension 2. \n",
    "Combien de valeurs propres allons-nous selectionner ?"
   ]
  },
  {
   "cell_type": "markdown",
   "metadata": {
    "id": "ebz0IrgYTTqW"
   },
   "source": [
    "Réponse :"
   ]
  },
  {
   "cell_type": "markdown",
   "metadata": {
    "id": "-x3k9VVi8mWV"
   },
   "source": [
    "**nous allons selectioner deux valeurs propres celles d'indices 62 et 63.**"
   ]
  },
  {
   "cell_type": "markdown",
   "metadata": {
    "id": "MCjAvyN_TKte"
   },
   "source": [
    "Récupérez maintenant les vecteurs propres associés aux deux plus grandes valeurs propres dans une variable vectors. \n"
   ]
  },
  {
   "cell_type": "code",
   "execution_count": 33,
   "metadata": {
    "id": "ITWaro4I8iN7"
   },
   "outputs": [],
   "source": [
    "v=vecteurs_propres[62:64]"
   ]
  },
  {
   "cell_type": "markdown",
   "metadata": {
    "id": "XCelEqQLTZhP"
   },
   "source": [
    "Quelles doit être la taille de la matrice vectors (contenant les deux vecteurs propres sélectionnés) ? "
   ]
  },
  {
   "cell_type": "markdown",
   "metadata": {
    "id": "LKrJrS1uTe1v"
   },
   "source": [
    "Réponse : "
   ]
  },
  {
   "cell_type": "markdown",
   "metadata": {
    "id": "R8-pNXAJ_rDW"
   },
   "source": [
    "2 vecteurs de 64 donc la taille sera 2 fois 64"
   ]
  },
  {
   "cell_type": "markdown",
   "metadata": {
    "id": "mqnOjBRDTf7f"
   },
   "source": [
    "Vérifier que la taille de vector est correcte. "
   ]
  },
  {
   "cell_type": "code",
   "execution_count": 34,
   "metadata": {
    "colab": {
     "base_uri": "https://localhost:8080/"
    },
    "id": "aGmocMdxTivp",
    "outputId": "fb2bbd16-2c0a-458e-ffc0-a2128d397a2f"
   },
   "outputs": [
    {
     "data": {
      "text/plain": [
       "(2, 64)"
      ]
     },
     "execution_count": 34,
     "metadata": {},
     "output_type": "execute_result"
    }
   ],
   "source": [
    "np.shape(v)"
   ]
  },
  {
   "cell_type": "markdown",
   "metadata": {
    "id": "7ZAdKZ1CTjDH"
   },
   "source": [
    "Projeter maintenant vos données dans le nouvel espace, en multipliant vos données par la matrice de passage que vous venez de calculer. \n",
    "Appelez new_coordinates vos nouvelles coordonnées. "
   ]
  },
  {
   "cell_type": "code",
   "execution_count": 37,
   "metadata": {
    "colab": {
     "base_uri": "https://localhost:8080/"
    },
    "id": "6WC5S3lyTtIf",
    "outputId": "3d69b290-c1b9-4e87-a9bd-07aff5a4149b"
   },
   "outputs": [
    {
     "name": "stdout",
     "output_type": "stream",
     "text": [
      "[[-10.50533194   9.68823713]\n",
      " [ -9.99667387   3.53626765]\n",
      " [ -3.87229144  14.21935712]\n",
      " ...\n",
      " [-12.21317656  14.28737524]\n",
      " [-22.92342515   5.38423364]\n",
      " [-16.13318349  12.26680642]]\n"
     ]
    }
   ],
   "source": [
    "    projection=np.matmul(db,np.transpose(v))\n",
    "    print(projection)"
   ]
  },
  {
   "cell_type": "markdown",
   "metadata": {
    "id": "VhUZ0Ib-TtfD"
   },
   "source": [
    "Quelle doit être la taille de vos nouvelles coordonnées ? "
   ]
  },
  {
   "cell_type": "code",
   "execution_count": 38,
   "metadata": {
    "colab": {
     "base_uri": "https://localhost:8080/"
    },
    "id": "oRfMupxhA1Xo",
    "outputId": "fed2d626-c07d-4c5a-dc65-bb7a9e1b7a7e"
   },
   "outputs": [
    {
     "data": {
      "text/plain": [
       "(1797, 2)"
      ]
     },
     "execution_count": 38,
     "metadata": {},
     "output_type": "execute_result"
    }
   ],
   "source": [
    "np.shape(projection)"
   ]
  },
  {
   "cell_type": "markdown",
   "metadata": {
    "id": "vAbtkixBT044"
   },
   "source": [
    "Réponse : "
   ]
  },
  {
   "cell_type": "markdown",
   "metadata": {
    "id": "6ahKqecQT4In"
   },
   "source": [
    "Quelle est la variance expliquée par cette projection ? (Donner du code python pour répondre)."
   ]
  },
  {
   "cell_type": "code",
   "execution_count": 39,
   "metadata": {
    "colab": {
     "base_uri": "https://localhost:8080/"
    },
    "id": "iSr474kjT8gG",
    "outputId": "ea243d40-c2dc-46fe-d4b0-74bd2cad9b48"
   },
   "outputs": [
    {
     "name": "stdout",
     "output_type": "stream",
     "text": [
      "la 1ere variancee expliquée 0.13618771239635433 la 2eme 0.14890593584063835\n"
     ]
    }
   ],
   "source": [
    "varexpli1=valeurs_propres[62]/np.sum(valeurs_propres)\n",
    "varexpli2=valeurs_propres[63]/np.sum(valeurs_propres)\n",
    "print(\"la 1ere variancee expliquée\",varexpli1 , \"la 2eme\" , varexpli2)"
   ]
  },
  {
   "cell_type": "markdown",
   "metadata": {
    "id": "FfvN2ut1T2vY"
   },
   "source": [
    "## Visualisation \n",
    "\n",
    "Utiliser la fonction scatter pour visualiser vos données réduites par PCA. \n",
    "Colorer les points en fonction des labels dans la base de données. "
   ]
  },
  {
   "cell_type": "code",
   "execution_count": 44,
   "metadata": {
    "colab": {
     "base_uri": "https://localhost:8080/",
     "height": 282
    },
    "id": "wBN29nhaUFGn",
    "outputId": "3c5ef766-602b-48e2-f3e5-08459beabe34"
   },
   "outputs": [
    {
     "data": {
      "text/plain": [
       "<matplotlib.collections.PathCollection at 0x7febdf8a2a90>"
      ]
     },
     "execution_count": 44,
     "metadata": {},
     "output_type": "execute_result"
    },
    {
     "data": {
      "image/png": "[encoded data removed]",
      "text/plain": [
       "<Figure size 432x288 with 1 Axes>"
      ]
     },
     "metadata": {
      "needs_background": "light"
     },
     "output_type": "display_data"
    }
   ],
   "source": [
    "plt.scatter(projection[:,0] , projection[:,1] , c=mnist.target)"
   ]
  },
  {
   "cell_type": "markdown",
   "metadata": {
    "id": "JwDRHXoxUIcQ"
   },
   "source": []
  },
  {
   "cell_type": "markdown",
   "metadata": {
    "id": "kcirV_IsUFay"
   },
   "source": [
    "Que remarque-t-on ?"
   ]
  },
  {
   "cell_type": "markdown",
   "metadata": {
    "id": "RzddLLc-UHIq"
   },
   "source": [
    "Réponse : "
   ]
  }
 ],
 "metadata": {
  "colab": {
   "collapsed_sections": [],
   "provenance": []
  },
  "kernelspec": {
   "display_name": "Python 3 (ipykernel)",
   "language": "python",
   "name": "python3"
  },
  "language_info": {
   "codemirror_mode": {
    "name": "ipython",
    "version": 3
   },
   "file_extension": ".py",
   "mimetype": "text/x-python",
   "name": "python",
   "nbconvert_exporter": "python",
   "pygments_lexer": "ipython3",
   "version": "3.12.4"
  }
 },
 "nbformat": 4,
 "nbformat_minor": 4
}
